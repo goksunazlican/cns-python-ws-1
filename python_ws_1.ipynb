{
  "nbformat": 4,
  "nbformat_minor": 0,
  "metadata": {
    "colab": {
      "provenance": [],
      "authorship_tag": "ABX9TyNVQ6CCc9tPBIWizuw4VKS+",
      "include_colab_link": true
    },
    "kernelspec": {
      "name": "python3",
      "display_name": "Python 3"
    },
    "language_info": {
      "name": "python"
    }
  },
  "cells": [
    {
      "cell_type": "markdown",
      "metadata": {
        "id": "view-in-github",
        "colab_type": "text"
      },
      "source": [
        "<a href=\"https://colab.research.google.com/github/goksunazlican/cns-python-ws-1/blob/main/python_ws_1.ipynb\" target=\"_parent\"><img src=\"https://colab.research.google.com/assets/colab-badge.svg\" alt=\"Open In Colab\"/></a>"
      ]
    },
    {
      "cell_type": "code",
      "execution_count": 2,
      "metadata": {
        "id": "AKLudg2EhrHN"
      },
      "outputs": [],
      "source": [
        "import numpy as np\n",
        "import matplotlib.pyplot as plt\n"
      ]
    },
    {
      "cell_type": "code",
      "source": [
        "t_max = 150e-3   # second\n",
        "dt = 1e-3        # second\n",
        "tau = 20e-3      # second\n",
        "el = -60e-3      # milivolt\n",
        "vr = -70e-3      # milivolt\n",
        "vth = -50e-3     # milivolt\n",
        "r = 100e6        # ohm\n",
        "i_mean = 25e-11  # ampere\n",
        "print(t_max, dt, tau, el, vr, vth, r, i_mean)"
      ],
      "metadata": {
        "colab": {
          "base_uri": "https://localhost:8080/"
        },
        "id": "t2RWhk2-kDdF",
        "outputId": "7bf47b03-b834-43d2-901b-f5d2430ef3c7"
      },
      "execution_count": 3,
      "outputs": [
        {
          "output_type": "stream",
          "name": "stdout",
          "text": [
            "0.15 0.001 0.02 -0.06 -0.07 -0.05 100000000.0 2.5e-10\n"
          ]
        }
      ]
    },
    {
      "cell_type": "markdown",
      "source": [
        "**Membrane Potential**\n",
        "\n",
        "I(t)=Imean(1+sin(2π0/01*t))"
      ],
      "metadata": {
        "id": "nFZVrG9odMQ4"
      }
    },
    {
      "cell_type": "code",
      "source": [
        "çş.ş.ş.ş.ş.ş.ş.ş.ş.ş.ş.ş.ş.ş.ş.ş.ş.ş.ş.ş.ş.ş.ş.ş.ş.ş.ş.ş.ş.ş.ş.ş.ş.ş.ş.ş.plt.figure()\n",
        "plt.title(\"membrane equation\")\n",
        "plt.xlabel(\"time\")\n",
        "plt.ylabel(\"voltage\")"
      ],
      "metadata": {
        "colab": {
          "base_uri": "https://localhost:8080/",
          "height": 312
        },
        "id": "CKO6COpp4TNH",
        "outputId": "87ae0ea2-6aca-43b2-b2a4-efcc006ff9b9"
      },
      "execution_count": 4,
      "outputs": [
        {
          "output_type": "execute_result",
          "data": {
            "text/plain": [
              "Text(0, 0.5, 'voltage')"
            ]
          },
          "metadata": {},
          "execution_count": 4
        },
        {
          "output_type": "display_data",
          "data": {
            "text/plain": [
              "<Figure size 432x288 with 1 Axes>"
            ],
            "image/png": "[encoded data removed]"
          },
          "metadata": {
            "needs_background": "light"
          }
        }
      ]
    },
    {
      "cell_type": "code",
      "source": [
        "step_end = int(t_max / dt)\n",
        "v = el\n",
        "\n",
        "for step in range(step_end):\n",
        "\n",
        "  t = step * dt\n",
        "\n",
        "  i = i_mean * (1 + np.sin(t * 2 * np.pi)/0.01)\n",
        "\n",
        "  v = v + dt/tau * (el - v + (r*i))\n",
        "\n",
        "  plt.plot(t,v, 'k.')\n",
        "\n",
        "  print(f'{t:.3f}' + \" \" + f'{i:.4e}' + \" \" + f'{v:.4e}')\n",
        "\n",
        "plt.show()"
      ],
      "metadata": {
        "id": "kwP95MiohQdS"
      },
      "execution_count": null,
      "outputs": []
    },
    {
      "cell_type": "markdown",
      "source": [
        "**Ramdom Synaptic Input**\n",
        "\n",
        "I(t)=Imean(1+0.1*√(tmax/Δt)ξ(t) with ξ(t)∼U(−1,1)"
      ],
      "metadata": {
        "id": "640S16YrdZ8d"
      }
    },
    {
      "cell_type": "code",
      "source": [
        "np.random.seed(2020)\n",
        "step_end = int(t_max / dt)\n",
        "v = el\n",
        "\n",
        "for step in range(step_end):\n",
        "\n",
        "  t = step * dt\n",
        "\n",
        "  random_number = 2*np.random.random() -1\n",
        "\n",
        "  i = i_mean * (1 + 0.1*(t_max/dt)**(0.5)*random_number)\n",
        "\n",
        "  v = v + dt/tau * (el - v + (r*i))\n",
        "\n",
        "  plt.plot(t,v, 'k.')\n",
        "\n",
        "  print(f'{t:.3f}' + \" \" + f'{i:.4e}' + \" \" + f'{v:.4e}')\n",
        "\n",
        "plt.show()"
      ],
      "metadata": {
        "colab": {
          "base_uri": "https://localhost:8080/",
          "height": 1000
        },
        "id": "LnMrEM6Bm6Xd",
        "outputId": "8a39a9db-833c-44ce-ee34-957dbabf02ee"
      },
      "execution_count": 13,
      "outputs": [
        {
          "output_type": "stream",
          "name": "stdout",
          "text": [
            "0.000 5.4778e-10 -5.7261e-02\n",
            "0.001 4.7865e-10 -5.5005e-02\n",
            "0.002 2.5597e-10 -5.3975e-02\n",
            "0.003 1.1028e-10 -5.3725e-02\n",
            "0.004 1.5013e-10 -5.3288e-02\n",
            "0.005 7.6671e-11 -5.3240e-02\n",
            "0.006 1.1312e-10 -5.3012e-02\n",
            "0.007 1.5405e-10 -5.2591e-02\n",
            "0.008 4.7178e-10 -5.0603e-02\n",
            "0.009 3.9772e-11 -5.0874e-02\n",
            "0.010 3.0089e-11 -5.1180e-02\n",
            "0.011 4.0743e-10 -4.9584e-02\n",
            "0.012 3.9472e-10 -4.8131e-02\n",
            "0.013 1.6161e-10 -4.7916e-02\n",
            "0.014 1.5269e-10 -4.7757e-02\n",
            "0.015 3.5215e-10 -4.6608e-02\n",
            "0.016 7.6760e-11 -4.6894e-02\n",
            "0.017 2.8762e-10 -4.6111e-02\n",
            "0.018 1.9857e-11 -4.6707e-02\n",
            "0.019 1.3961e-10 -4.6673e-02\n",
            "0.020 5.2754e-10 -4.4702e-02\n",
            "0.021 2.7927e-11 -4.5327e-02\n",
            "0.022 2.9251e-10 -4.4598e-02\n",
            "0.023 5.4128e-10 -4.2662e-02\n",
            "0.024 2.5206e-10 -4.2269e-02\n",
            "0.025 3.5267e-10 -4.1392e-02\n",
            "0.026 -3.5248e-11 -4.2498e-02\n",
            "0.027 2.2313e-10 -4.2258e-02\n",
            "0.028 3.9253e-11 -4.2949e-02\n",
            "0.029 2.3533e-10 -4.2625e-02\n",
            "0.030 4.7735e-11 -4.3255e-02\n",
            "0.031 4.9266e-10 -4.1629e-02\n",
            "0.032 1.7247e-10 -4.1685e-02\n",
            "0.033 1.7633e-10 -4.1719e-02\n",
            "0.034 4.6942e-10 -4.0286e-02\n",
            "0.035 3.3944e-10 -3.9574e-02\n",
            "0.036 3.0111e-10 -3.9090e-02\n",
            "0.037 3.5309e-10 -3.8370e-02\n",
            "0.038 5.2689e-11 -3.9188e-02\n",
            "0.039 4.6387e-10 -3.7909e-02\n",
            "0.040 2.1471e-10 -3.7940e-02\n",
            "0.041 4.5298e-10 -3.6778e-02\n",
            "0.042 4.1162e-10 -3.5881e-02\n",
            "0.043 5.0701e-10 -3.4552e-02\n",
            "0.044 -1.2969e-11 -3.5890e-02\n",
            "0.045 3.9445e-11 -3.6898e-02\n",
            "0.046 3.3383e-10 -3.6384e-02\n",
            "0.047 2.8411e-10 -3.6144e-02\n",
            "0.048 6.1346e-11 -3.7030e-02\n",
            "0.049 2.0447e-10 -3.7156e-02\n",
            "0.050 2.5822e-10 -3.7007e-02\n",
            "0.051 1.0877e-10 -3.7613e-02\n",
            "0.052 3.1064e-10 -3.7179e-02\n",
            "0.053 7.8642e-11 -3.7927e-02\n",
            "0.054 1.2805e-10 -3.8391e-02\n",
            "0.055 -2.6551e-11 -3.9604e-02\n",
            "0.056 2.8939e-10 -3.9177e-02\n",
            "0.057 5.1701e-10 -3.7633e-02\n",
            "0.058 4.3557e-10 -3.6573e-02\n",
            "0.059 3.7082e-10 -3.5890e-02\n",
            "0.060 2.2635e-10 -3.5964e-02\n",
            "0.061 3.4947e-10 -3.5419e-02\n",
            "0.062 4.0289e-10 -3.4633e-02\n",
            "0.063 2.6926e-10 -3.4555e-02\n",
            "0.064 2.3947e-10 -3.4630e-02\n",
            "0.065 -3.8259e-11 -3.6090e-02\n",
            "0.066 4.9145e-10 -3.4828e-02\n",
            "0.067 4.5302e-10 -3.3822e-02\n",
            "0.068 3.9565e-10 -3.3152e-02\n",
            "0.069 4.9403e-10 -3.2025e-02\n",
            "0.070 8.5109e-11 -3.2998e-02\n",
            "0.071 5.4017e-11 -3.4078e-02\n",
            "0.072 3.1991e-10 -3.3774e-02\n",
            "0.073 -4.5978e-11 -3.5316e-02\n",
            "0.074 1.2711e-10 -3.5914e-02\n",
            "0.075 3.5321e-10 -3.5352e-02\n",
            "0.076 5.2713e-10 -3.3949e-02\n",
            "0.077 4.4364e-10 -3.3034e-02\n",
            "0.078 -8.5055e-12 -3.4424e-02\n",
            "0.079 2.6247e-11 -3.5572e-02\n",
            "0.080 2.9688e-10 -3.5309e-02\n",
            "0.081 5.2374e-11 -3.6282e-02\n",
            "0.082 5.5279e-10 -3.4704e-02\n",
            "0.083 1.5691e-11 -3.5890e-02\n",
            "0.084 4.5872e-10 -3.4802e-02\n",
            "0.085 -4.7597e-11 -3.6300e-02\n",
            "0.086 4.7761e-10 -3.5097e-02\n",
            "0.087 4.9642e-10 -3.3860e-02\n",
            "0.088 2.1889e-10 -3.4072e-02\n",
            "0.089 3.2237e-10 -3.3757e-02\n",
            "0.090 5.4331e-10 -3.2352e-02\n",
            "0.091 1.8710e-10 -3.2799e-02\n",
            "0.092 2.1769e-10 -3.3071e-02\n",
            "0.093 8.6656e-11 -3.3984e-02\n",
            "0.094 5.1438e-10 -3.2713e-02\n",
            "0.095 1.1087e-10 -3.3523e-02\n",
            "0.096 5.1475e-10 -3.2273e-02\n",
            "0.097 1.9686e-10 -3.2675e-02\n",
            "0.098 4.2209e-11 -3.3830e-02\n",
            "0.099 2.3090e-10 -3.3984e-02\n",
            "0.100 1.0872e-10 -3.4742e-02\n",
            "0.101 5.2206e-10 -3.3394e-02\n",
            "0.102 1.2473e-10 -3.4101e-02\n",
            "0.103 3.6625e-11 -3.5213e-02\n",
            "0.104 1.1071e-10 -3.5898e-02\n",
            "0.105 4.7350e-10 -3.4736e-02\n",
            "0.106 5.0527e-10 -3.3473e-02\n",
            "0.107 4.0296e-10 -3.2784e-02\n",
            "0.108 4.9508e-10 -3.1670e-02\n",
            "0.109 -4.2465e-11 -3.3299e-02\n",
            "0.110 -3.1108e-11 -3.4789e-02\n",
            "0.111 4.9406e-10 -3.3579e-02\n",
            "0.112 3.7296e-10 -3.3036e-02\n",
            "0.113 3.5370e-10 -3.2615e-02\n",
            "0.114 2.8236e-10 -3.2573e-02\n",
            "0.115 3.8640e-10 -3.2012e-02\n",
            "0.116 4.6674e-10 -3.1078e-02\n",
            "0.117 3.1676e-10 -3.0940e-02\n",
            "0.118 2.2086e-10 -3.1289e-02\n",
            "0.119 1.2548e-10 -3.2097e-02\n",
            "0.120 3.2999e-10 -3.1842e-02\n",
            "0.121 2.5431e-10 -3.1979e-02\n",
            "0.122 1.7055e-10 -3.2527e-02\n",
            "0.123 2.8452e-11 -3.3758e-02\n",
            "0.124 4.0872e-10 -3.3027e-02\n",
            "0.125 5.3107e-10 -3.1720e-02\n",
            "0.126 1.1468e-10 -3.2561e-02\n",
            "0.127 3.9134e-10 -3.1976e-02\n",
            "0.128 6.6237e-11 -3.3046e-02\n",
            "0.129 3.3804e-10 -3.2703e-02\n",
            "0.130 6.8048e-11 -3.3728e-02\n",
            "0.131 -2.5297e-11 -3.5168e-02\n",
            "0.132 1.7161e-10 -3.5552e-02\n",
            "0.133 -4.7556e-11 -3.7012e-02\n",
            "0.134 4.7949e-12 -3.8137e-02\n",
            "0.135 5.5579e-10 -3.6452e-02\n",
            "0.136 5.1073e-10 -3.5075e-02\n",
            "0.137 4.4284e-10 -3.4107e-02\n",
            "0.138 7.9988e-11 -3.5002e-02\n",
            "0.139 3.4742e-12 -3.6235e-02\n",
            "0.140 5.2284e-10 -3.4809e-02\n",
            "0.141 4.1052e-10 -3.4016e-02\n",
            "0.142 1.4509e-10 -3.4589e-02\n",
            "0.143 5.1084e-10 -3.3306e-02\n",
            "0.144 3.7595e-10 -3.2761e-02\n",
            "0.145 -2.1407e-11 -3.4230e-02\n",
            "0.146 2.4692e-10 -3.4284e-02\n",
            "0.147 1.8558e-10 -3.4641e-02\n",
            "0.148 2.8762e-10 -3.4471e-02\n",
            "0.149 3.9152e-10 -3.3790e-02\n"
          ]
        },
        {
          "output_type": "display_data",
          "data": {
            "text/plain": [
              "<Figure size 432x288 with 1 Axes>"
            ],
            "image/png": "[encoded data removed]"
          },
          "metadata": {
            "needs_background": "light"
          }
        }
      ]
    },
    {
      "cell_type": "markdown",
      "source": [
        "**Storing simulations in lists**"
      ],
      "metadata": {
        "id": "CjuivuxLkXyt"
      }
    },
    {
      "cell_type": "code",
      "source": [],
      "metadata": {
        "id": "TynzUwqldZE0"
      },
      "execution_count": null,
      "outputs": []
    },
    {
      "cell_type": "code",
      "source": [
        "for step in [0, 1, 2]:\n",
        "  print(step)\n",
        "\n",
        "for step in range(3):\n",
        "  print(step)\n",
        "\n",
        "start = 0\n",
        "end = 3\n",
        "stepsize = 1\n",
        "\n",
        "for step in range(start, end, stepsize):\n",
        "  print(step)"
      ],
      "metadata": {
        "colab": {
          "base_uri": "https://localhost:8080/"
        },
        "id": "gP_0Qf9fpW0a",
        "outputId": "4df22f90-676a-4029-f981-dee8548445c3"
      },
      "execution_count": null,
      "outputs": [
        {
          "output_type": "stream",
          "name": "stdout",
          "text": [
            "0\n",
            "1\n",
            "2\n",
            "0\n",
            "1\n",
            "2\n",
            "0\n",
            "1\n",
            "2\n"
          ]
        }
      ]
    }
  ]
}