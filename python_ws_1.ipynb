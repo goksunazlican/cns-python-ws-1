{
  "nbformat": 4,
  "nbformat_minor": 0,
  "metadata": {
    "colab": {
      "provenance": [],
      "authorship_tag": "ABX9TyPf5oew81W+QM5TLxJR8WRM",
      "include_colab_link": true
    },
    "kernelspec": {
      "name": "python3",
      "display_name": "Python 3"
    },
    "language_info": {
      "name": "python"
    }
  },
  "cells": [
    {
      "cell_type": "markdown",
      "metadata": {
        "id": "view-in-github",
        "colab_type": "text"
      },
      "source": [
        "<a href=\"https://colab.research.google.com/github/goksunazlican/cns-python-ws-1/blob/main/python_ws_1.ipynb\" target=\"_parent\"><img src=\"https://colab.research.google.com/assets/colab-badge.svg\" alt=\"Open In Colab\"/></a>"
      ]
    },
    {
      "cell_type": "code",
      "execution_count": 2,
      "metadata": {
        "id": "AKLudg2EhrHN"
      },
      "outputs": [],
      "source": [
        "import numpy as np\n",
        "import matplotlib.pyplot as plt\n"
      ]
    },
    {
      "cell_type": "code",
      "source": [
        "t_max = 150e-3   # second\n",
        "dt = 1e-3        # second\n",
        "tau = 20e-3      # second\n",
        "el = -60e-3      # milivolt\n",
        "vr = -70e-3      # milivolt\n",
        "vth = -50e-3     # milivolt\n",
        "r = 100e6        # ohm\n",
        "i_mean = 25e-11  # ampere\n",
        "print(t_max, dt, tau, el, vr, vth, r, i_mean)"
      ],
      "metadata": {
        "colab": {
          "base_uri": "https://localhost:8080/"
        },
        "id": "t2RWhk2-kDdF",
        "outputId": "3256c1a0-c936-460c-8f5d-71dc84ddfc11"
      },
      "execution_count": 24,
      "outputs": [
        {
          "output_type": "stream",
          "name": "stdout",
          "text": [
            "0.15 0.001 0.02 -0.06 -0.07 -0.05 100000000.0 2.5e-10\n"
          ]
        }
      ]
    },
    {
      "cell_type": "code",
      "source": [
        "plt.figure()\n",
        "plt.title(\"membrane equation\")\n",
        "plt.xlabel(\"input\")\n",
        "plt.ylabel(\"potential\")"
      ],
      "metadata": {
        "colab": {
          "base_uri": "https://localhost:8080/",
          "height": 312
        },
        "id": "CKO6COpp4TNH",
        "outputId": "5a6813bf-3835-4fb8-819c-7594684d8389"
      },
      "execution_count": 33,
      "outputs": [
        {
          "output_type": "execute_result",
          "data": {
            "text/plain": [
              "Text(0, 0.5, 'potential')"
            ]
          },
          "metadata": {},
          "execution_count": 33
        },
        {
          "output_type": "display_data",
          "data": {
            "text/plain": [
              "<Figure size 432x288 with 1 Axes>"
            ],
            "image/png": "[encoded data removed]"
          },
          "metadata": {
            "needs_background": "light"
          }
        }
      ]
    },
    {
      "cell_type": "code",
      "source": [
        "step_end=10\n",
        "v = el\n",
        "\n",
        "for step in range(step_end):\n",
        "\n",
        "  t = step * dt\n",
        "\n",
        "  i = i_mean * (1 + np.sin(t * 2 * np.pi)/0.01)\n",
        "\n",
        "  v = v + dt/tau * (el - v + (r*i))\n",
        "\n",
        "  plt.plot(i,v, 'ko')\n",
        "\n",
        "  print(f'{t:.3f}' + \" \" + f'{i:.4e}' + \" \" + f'{v:.4e}')\n",
        "\n",
        "plt.show()"
      ],
      "metadata": {
        "colab": {
          "base_uri": "https://localhost:8080/",
          "height": 452
        },
        "id": "LnMrEM6Bm6Xd",
        "outputId": "d8c8e93e-845d-4a42-a2b4-f11f0bc8df20"
      },
      "execution_count": 36,
      "outputs": [
        {
          "output_type": "stream",
          "name": "stdout",
          "text": [
            "0.000 2.5000e-10 -5.8750e-02\n",
            "0.001 4.0708e-10 -5.6777e-02\n",
            "0.002 5.6415e-10 -5.4117e-02\n",
            "0.003 7.2121e-10 -5.0806e-02\n",
            "0.004 8.7825e-10 -4.6874e-02\n",
            "0.005 1.0353e-09 -4.2354e-02\n",
            "0.006 1.1923e-09 -3.7275e-02\n",
            "0.007 1.3492e-09 -3.1665e-02\n",
            "0.008 1.5061e-09 -2.5551e-02\n",
            "0.009 1.6630e-09 -1.8959e-02\n"
          ]
        },
        {
          "output_type": "display_data",
          "data": {
            "text/plain": [
              "<Figure size 432x288 with 1 Axes>"
            ],
            "image/png": "[encoded data removed]"
          },
          "metadata": {
            "needs_background": "light"
          }
        }
      ]
    },
    {
      "cell_type": "code",
      "source": [
        "for step in [0, 1, 2]:\n",
        "  print(step)\n",
        "\n",
        "for step in range(3):\n",
        "  print(step)\n",
        "\n",
        "start = 0\n",
        "end = 3\n",
        "stepsize = 1\n",
        "\n",
        "for step in range(start, end, stepsize):\n",
        "  print(step)"
      ],
      "metadata": {
        "colab": {
          "base_uri": "https://localhost:8080/"
        },
        "id": "gP_0Qf9fpW0a",
        "outputId": "4df22f90-676a-4029-f981-dee8548445c3"
      },
      "execution_count": 26,
      "outputs": [
        {
          "output_type": "stream",
          "name": "stdout",
          "text": [
            "0\n",
            "1\n",
            "2\n",
            "0\n",
            "1\n",
            "2\n",
            "0\n",
            "1\n",
            "2\n"
          ]
        }
      ]
    }
  ]
}